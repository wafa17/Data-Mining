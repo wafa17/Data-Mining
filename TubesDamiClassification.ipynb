{
  "nbformat": 4,
  "nbformat_minor": 0,
  "metadata": {
    "colab": {
      "name": "TubesDamiClassification.ipynb",
      "provenance": [],
      "collapsed_sections": [],
      "authorship_tag": "ABX9TyNqbaWr7SeISRhqLfZgBh5C",
      "include_colab_link": true
    },
    "kernelspec": {
      "name": "python3",
      "display_name": "Python 3"
    }
  },
  "cells": [
    {
      "cell_type": "markdown",
      "metadata": {
        "id": "view-in-github",
        "colab_type": "text"
      },
      "source": [
        "<a href=\"https://colab.research.google.com/github/wafa17/Data-Mining/blob/main/TubesDamiClassification.ipynb\" target=\"_parent\"><img src=\"https://colab.research.google.com/assets/colab-badge.svg\" alt=\"Open In Colab\"/></a>"
      ]
    },
    {
      "cell_type": "code",
      "metadata": {
        "id": "dlPCaxV7Jlqg"
      },
      "source": [
        "import numpy as np\r\n",
        "import pandas as pd\r\n",
        "import matplotlib.pyplot as plt\r\n",
        "import seaborn as sns\r\n",
        "sns.set()\r\n",
        "%matplotlib inline\r\n",
        "from sklearn.model_selection import train_test_split\r\n",
        "from sklearn.preprocessing import MinMaxScaler\r\n",
        "from sklearn.metrics import confusion_matrix"
      ],
      "execution_count": null,
      "outputs": []
    },
    {
      "cell_type": "markdown",
      "metadata": {
        "id": "o-ffovheKFdf"
      },
      "source": [
        "# **Import Data**"
      ]
    },
    {
      "cell_type": "markdown",
      "metadata": {
        "id": "E-xjYWkiKLxs"
      },
      "source": [
        "Pada tahap ini akan melakukan import data dan membaca dataset yang digunakan"
      ]
    },
    {
      "cell_type": "code",
      "metadata": {
        "colab": {
          "base_uri": "https://localhost:8080/",
          "height": 245
        },
        "id": "9TpEhcimKKn8",
        "outputId": "db17acc4-9f75-4a48-c04c-dbc9ab3acbce"
      },
      "source": [
        "df = pd.read_csv('train.csv', sep='|')\r\n",
        "print(df.shape)\r\n",
        "df.head()"
      ],
      "execution_count": null,
      "outputs": [
        {
          "output_type": "stream",
          "text": [
            "(1879, 10)\n"
          ],
          "name": "stdout"
        },
        {
          "output_type": "execute_result",
          "data": {
            "text/html": [
              "<div>\n",
              "<style scoped>\n",
              "    .dataframe tbody tr th:only-of-type {\n",
              "        vertical-align: middle;\n",
              "    }\n",
              "\n",
              "    .dataframe tbody tr th {\n",
              "        vertical-align: top;\n",
              "    }\n",
              "\n",
              "    .dataframe thead th {\n",
              "        text-align: right;\n",
              "    }\n",
              "</style>\n",
              "<table border=\"1\" class=\"dataframe\">\n",
              "  <thead>\n",
              "    <tr style=\"text-align: right;\">\n",
              "      <th></th>\n",
              "      <th>trustLevel</th>\n",
              "      <th>totalScanTimeInSeconds</th>\n",
              "      <th>grandTotal</th>\n",
              "      <th>lineItemVoids</th>\n",
              "      <th>scansWithoutRegistration</th>\n",
              "      <th>quantityModifications</th>\n",
              "      <th>scannedLineItemsPerSecond</th>\n",
              "      <th>valuePerSecond</th>\n",
              "      <th>lineItemVoidsPerPosition</th>\n",
              "      <th>fraud</th>\n",
              "    </tr>\n",
              "  </thead>\n",
              "  <tbody>\n",
              "    <tr>\n",
              "      <th>0</th>\n",
              "      <td>5</td>\n",
              "      <td>1054</td>\n",
              "      <td>54.70</td>\n",
              "      <td>7</td>\n",
              "      <td>0</td>\n",
              "      <td>3</td>\n",
              "      <td>0.027514</td>\n",
              "      <td>0.051898</td>\n",
              "      <td>0.241379</td>\n",
              "      <td>0</td>\n",
              "    </tr>\n",
              "    <tr>\n",
              "      <th>1</th>\n",
              "      <td>3</td>\n",
              "      <td>108</td>\n",
              "      <td>27.36</td>\n",
              "      <td>5</td>\n",
              "      <td>2</td>\n",
              "      <td>4</td>\n",
              "      <td>0.129630</td>\n",
              "      <td>0.253333</td>\n",
              "      <td>0.357143</td>\n",
              "      <td>0</td>\n",
              "    </tr>\n",
              "    <tr>\n",
              "      <th>2</th>\n",
              "      <td>3</td>\n",
              "      <td>1516</td>\n",
              "      <td>62.16</td>\n",
              "      <td>3</td>\n",
              "      <td>10</td>\n",
              "      <td>5</td>\n",
              "      <td>0.008575</td>\n",
              "      <td>0.041003</td>\n",
              "      <td>0.230769</td>\n",
              "      <td>0</td>\n",
              "    </tr>\n",
              "    <tr>\n",
              "      <th>3</th>\n",
              "      <td>6</td>\n",
              "      <td>1791</td>\n",
              "      <td>92.31</td>\n",
              "      <td>8</td>\n",
              "      <td>4</td>\n",
              "      <td>4</td>\n",
              "      <td>0.016192</td>\n",
              "      <td>0.051541</td>\n",
              "      <td>0.275862</td>\n",
              "      <td>0</td>\n",
              "    </tr>\n",
              "    <tr>\n",
              "      <th>4</th>\n",
              "      <td>5</td>\n",
              "      <td>430</td>\n",
              "      <td>81.53</td>\n",
              "      <td>3</td>\n",
              "      <td>7</td>\n",
              "      <td>2</td>\n",
              "      <td>0.062791</td>\n",
              "      <td>0.189605</td>\n",
              "      <td>0.111111</td>\n",
              "      <td>0</td>\n",
              "    </tr>\n",
              "  </tbody>\n",
              "</table>\n",
              "</div>"
            ],
            "text/plain": [
              "   trustLevel  totalScanTimeInSeconds  ...  lineItemVoidsPerPosition  fraud\n",
              "0           5                    1054  ...                  0.241379      0\n",
              "1           3                     108  ...                  0.357143      0\n",
              "2           3                    1516  ...                  0.230769      0\n",
              "3           6                    1791  ...                  0.275862      0\n",
              "4           5                     430  ...                  0.111111      0\n",
              "\n",
              "[5 rows x 10 columns]"
            ]
          },
          "metadata": {
            "tags": []
          },
          "execution_count": 2
        }
      ]
    },
    {
      "cell_type": "code",
      "metadata": {
        "colab": {
          "base_uri": "https://localhost:8080/",
          "height": 225
        },
        "id": "7lKt6CrOLJ-8",
        "outputId": "4269b491-9966-486f-8164-377aae6f6981"
      },
      "source": [
        "dt = pd.read_csv('test.csv', sep='|')\r\n",
        "print(dt.shape)\r\n",
        "dt.head()"
      ],
      "execution_count": null,
      "outputs": [
        {
          "output_type": "stream",
          "text": [
            "(498121, 9)\n"
          ],
          "name": "stdout"
        },
        {
          "output_type": "execute_result",
          "data": {
            "text/html": [
              "<div>\n",
              "<style scoped>\n",
              "    .dataframe tbody tr th:only-of-type {\n",
              "        vertical-align: middle;\n",
              "    }\n",
              "\n",
              "    .dataframe tbody tr th {\n",
              "        vertical-align: top;\n",
              "    }\n",
              "\n",
              "    .dataframe thead th {\n",
              "        text-align: right;\n",
              "    }\n",
              "</style>\n",
              "<table border=\"1\" class=\"dataframe\">\n",
              "  <thead>\n",
              "    <tr style=\"text-align: right;\">\n",
              "      <th></th>\n",
              "      <th>trustLevel</th>\n",
              "      <th>totalScanTimeInSeconds</th>\n",
              "      <th>grandTotal</th>\n",
              "      <th>lineItemVoids</th>\n",
              "      <th>scansWithoutRegistration</th>\n",
              "      <th>quantityModifications</th>\n",
              "      <th>scannedLineItemsPerSecond</th>\n",
              "      <th>valuePerSecond</th>\n",
              "      <th>lineItemVoidsPerPosition</th>\n",
              "    </tr>\n",
              "  </thead>\n",
              "  <tbody>\n",
              "    <tr>\n",
              "      <th>0</th>\n",
              "      <td>4</td>\n",
              "      <td>467</td>\n",
              "      <td>88.48</td>\n",
              "      <td>4</td>\n",
              "      <td>8</td>\n",
              "      <td>4</td>\n",
              "      <td>0.014989</td>\n",
              "      <td>0.189465</td>\n",
              "      <td>0.571429</td>\n",
              "    </tr>\n",
              "    <tr>\n",
              "      <th>1</th>\n",
              "      <td>3</td>\n",
              "      <td>1004</td>\n",
              "      <td>58.99</td>\n",
              "      <td>7</td>\n",
              "      <td>6</td>\n",
              "      <td>1</td>\n",
              "      <td>0.026892</td>\n",
              "      <td>0.058755</td>\n",
              "      <td>0.259259</td>\n",
              "    </tr>\n",
              "    <tr>\n",
              "      <th>2</th>\n",
              "      <td>1</td>\n",
              "      <td>162</td>\n",
              "      <td>14.00</td>\n",
              "      <td>4</td>\n",
              "      <td>5</td>\n",
              "      <td>4</td>\n",
              "      <td>0.006173</td>\n",
              "      <td>0.086420</td>\n",
              "      <td>4.000000</td>\n",
              "    </tr>\n",
              "    <tr>\n",
              "      <th>3</th>\n",
              "      <td>5</td>\n",
              "      <td>532</td>\n",
              "      <td>84.79</td>\n",
              "      <td>9</td>\n",
              "      <td>3</td>\n",
              "      <td>4</td>\n",
              "      <td>0.026316</td>\n",
              "      <td>0.159380</td>\n",
              "      <td>0.642857</td>\n",
              "    </tr>\n",
              "    <tr>\n",
              "      <th>4</th>\n",
              "      <td>5</td>\n",
              "      <td>890</td>\n",
              "      <td>42.16</td>\n",
              "      <td>4</td>\n",
              "      <td>0</td>\n",
              "      <td>0</td>\n",
              "      <td>0.021348</td>\n",
              "      <td>0.047371</td>\n",
              "      <td>0.210526</td>\n",
              "    </tr>\n",
              "  </tbody>\n",
              "</table>\n",
              "</div>"
            ],
            "text/plain": [
              "   trustLevel  totalScanTimeInSeconds  ...  valuePerSecond  lineItemVoidsPerPosition\n",
              "0           4                     467  ...        0.189465                  0.571429\n",
              "1           3                    1004  ...        0.058755                  0.259259\n",
              "2           1                     162  ...        0.086420                  4.000000\n",
              "3           5                     532  ...        0.159380                  0.642857\n",
              "4           5                     890  ...        0.047371                  0.210526\n",
              "\n",
              "[5 rows x 9 columns]"
            ]
          },
          "metadata": {
            "tags": []
          },
          "execution_count": 3
        }
      ]
    },
    {
      "cell_type": "markdown",
      "metadata": {
        "id": "QrBXDyVNLnO3"
      },
      "source": [
        "# **Data Understanding**"
      ]
    },
    {
      "cell_type": "markdown",
      "metadata": {
        "id": "9qSR1t_h0eg6"
      },
      "source": [
        "Terdapat 2 buah dataset yang diberikan. \r\n",
        "\r\n",
        "\r\n",
        "1.   data train\r\n",
        "2.   data test\r\n",
        "\r\n",
        "Kedua data ini merupakan data yang memiliki label di tiap datanya.  Berdasarkan data yang ada, kasus ini dapat diselesaikan dengan menggunakan pendekatan **supervised learning**. Artinya, melakukan **klasifikasi** atau **regresi** terhadap data train dan data test. \r\n",
        "\r\n"
      ]
    },
    {
      "cell_type": "code",
      "metadata": {
        "colab": {
          "base_uri": "https://localhost:8080/",
          "height": 226
        },
        "id": "ZE3piqvbLwZV",
        "outputId": "71291f03-5965-4530-f5d3-9a4bf7420dc4"
      },
      "source": [
        "df.sample(5)"
      ],
      "execution_count": null,
      "outputs": [
        {
          "output_type": "execute_result",
          "data": {
            "text/html": [
              "<div>\n",
              "<style scoped>\n",
              "    .dataframe tbody tr th:only-of-type {\n",
              "        vertical-align: middle;\n",
              "    }\n",
              "\n",
              "    .dataframe tbody tr th {\n",
              "        vertical-align: top;\n",
              "    }\n",
              "\n",
              "    .dataframe thead th {\n",
              "        text-align: right;\n",
              "    }\n",
              "</style>\n",
              "<table border=\"1\" class=\"dataframe\">\n",
              "  <thead>\n",
              "    <tr style=\"text-align: right;\">\n",
              "      <th></th>\n",
              "      <th>trustLevel</th>\n",
              "      <th>totalScanTimeInSeconds</th>\n",
              "      <th>grandTotal</th>\n",
              "      <th>lineItemVoids</th>\n",
              "      <th>scansWithoutRegistration</th>\n",
              "      <th>quantityModifications</th>\n",
              "      <th>scannedLineItemsPerSecond</th>\n",
              "      <th>valuePerSecond</th>\n",
              "      <th>lineItemVoidsPerPosition</th>\n",
              "      <th>fraud</th>\n",
              "    </tr>\n",
              "  </thead>\n",
              "  <tbody>\n",
              "    <tr>\n",
              "      <th>1554</th>\n",
              "      <td>4</td>\n",
              "      <td>577</td>\n",
              "      <td>93.37</td>\n",
              "      <td>9</td>\n",
              "      <td>9</td>\n",
              "      <td>1</td>\n",
              "      <td>0.046794</td>\n",
              "      <td>0.161820</td>\n",
              "      <td>0.333333</td>\n",
              "      <td>0</td>\n",
              "    </tr>\n",
              "    <tr>\n",
              "      <th>614</th>\n",
              "      <td>5</td>\n",
              "      <td>1210</td>\n",
              "      <td>34.00</td>\n",
              "      <td>8</td>\n",
              "      <td>2</td>\n",
              "      <td>1</td>\n",
              "      <td>0.014050</td>\n",
              "      <td>0.028099</td>\n",
              "      <td>0.470588</td>\n",
              "      <td>0</td>\n",
              "    </tr>\n",
              "    <tr>\n",
              "      <th>1823</th>\n",
              "      <td>4</td>\n",
              "      <td>1178</td>\n",
              "      <td>74.02</td>\n",
              "      <td>11</td>\n",
              "      <td>6</td>\n",
              "      <td>3</td>\n",
              "      <td>0.013582</td>\n",
              "      <td>0.062835</td>\n",
              "      <td>0.687500</td>\n",
              "      <td>0</td>\n",
              "    </tr>\n",
              "    <tr>\n",
              "      <th>1109</th>\n",
              "      <td>4</td>\n",
              "      <td>109</td>\n",
              "      <td>39.02</td>\n",
              "      <td>3</td>\n",
              "      <td>0</td>\n",
              "      <td>4</td>\n",
              "      <td>0.055046</td>\n",
              "      <td>0.357982</td>\n",
              "      <td>0.500000</td>\n",
              "      <td>0</td>\n",
              "    </tr>\n",
              "    <tr>\n",
              "      <th>297</th>\n",
              "      <td>2</td>\n",
              "      <td>809</td>\n",
              "      <td>21.21</td>\n",
              "      <td>0</td>\n",
              "      <td>7</td>\n",
              "      <td>5</td>\n",
              "      <td>0.021014</td>\n",
              "      <td>0.026218</td>\n",
              "      <td>0.000000</td>\n",
              "      <td>0</td>\n",
              "    </tr>\n",
              "  </tbody>\n",
              "</table>\n",
              "</div>"
            ],
            "text/plain": [
              "      trustLevel  totalScanTimeInSeconds  ...  lineItemVoidsPerPosition  fraud\n",
              "1554           4                     577  ...                  0.333333      0\n",
              "614            5                    1210  ...                  0.470588      0\n",
              "1823           4                    1178  ...                  0.687500      0\n",
              "1109           4                     109  ...                  0.500000      0\n",
              "297            2                     809  ...                  0.000000      0\n",
              "\n",
              "[5 rows x 10 columns]"
            ]
          },
          "metadata": {
            "tags": []
          },
          "execution_count": 4
        }
      ]
    },
    {
      "cell_type": "markdown",
      "metadata": {
        "id": "KxhstaJ8MF70"
      },
      "source": [
        "Sebelum melakukan klasifikasi, lebih baik mengetahui dengan baik data yang digunakan dan karakteristik dari atribut yang ada pada dataset yang digunakan \r\n",
        "\r\n",
        "*   **Trust Level** : customer trust level ada pada rentang 1-6\r\n",
        "*   **Total Scanned Item in Sec** : total item scanned dalam detik antara produk saat pertama di scan dan terakhir kali di scan\r\n",
        "*   **Grand Total** : total produk yang telah di scann\r\n",
        "*   **Line Item Voids** : nomor produk yang batal di scan\r\n",
        "*   **Scans without registration** : Terhitung melakukan scan padahal tidak melakukan scan\r\n",
        "*   **Quantitiy Modifications** : Jumlah kuantitas yang dimodivikasi\r\n",
        "*   **Scanned Line item per seconds** : jumlah rata-rata produk yang discan\r\n",
        "*   **Value per second** : total rata-rata nilai per detik\r\n",
        "*   **Line item void per second** : Rata-rata jumlah item kosong per total semua produk yang dipindai dan tidak dibatalkan\r\n",
        "*   **Fraud** : label yang akan digunakan sebagai klasifikasi\r\n",
        "\r\n",
        "\r\n",
        "\r\n",
        "\r\n"
      ]
    },
    {
      "cell_type": "markdown",
      "metadata": {
        "id": "VXirNpUhPAQp"
      },
      "source": [
        "# **Data Preparation/Preprocessing**"
      ]
    },
    {
      "cell_type": "markdown",
      "metadata": {
        "id": "zYR9-rFgPD_H"
      },
      "source": [
        "**1. Data Cleaning**\r\n",
        "---\r\n",
        "pada tahap ini akan dilakukan :\r\n",
        "\r\n",
        "1.   Cek tipe data\r\n",
        "2.   Cek apakah ada data yang missing atau bernilai NaN"
      ]
    },
    {
      "cell_type": "code",
      "metadata": {
        "colab": {
          "base_uri": "https://localhost:8080/"
        },
        "id": "8YbeS_XFPde0",
        "outputId": "a59a699a-36d5-4592-db52-087ed3e1113f"
      },
      "source": [
        "df.dtypes"
      ],
      "execution_count": null,
      "outputs": [
        {
          "output_type": "execute_result",
          "data": {
            "text/plain": [
              "trustLevel                     int64\n",
              "totalScanTimeInSeconds         int64\n",
              "grandTotal                   float64\n",
              "lineItemVoids                  int64\n",
              "scansWithoutRegistration       int64\n",
              "quantityModifications          int64\n",
              "scannedLineItemsPerSecond    float64\n",
              "valuePerSecond               float64\n",
              "lineItemVoidsPerPosition     float64\n",
              "fraud                          int64\n",
              "dtype: object"
            ]
          },
          "metadata": {
            "tags": []
          },
          "execution_count": 5
        }
      ]
    },
    {
      "cell_type": "markdown",
      "metadata": {
        "id": "jLmBQMvePh-V"
      },
      "source": [
        "Berdasarkan hasil diatas, didapatkan tipe data keseluruhan adalah object. Untuk **atribut trustlevel, totalscantimeperseconds, lineitemvoids, scanswithoutregistration,quantitymodifications, dan fraud merupakan integer**\r\n",
        "Sedangkan atribut **grandtotal, scannedlineitempersecond, valuepersecond, dan lineitemvoidpersecond merupakan datatype float.**"
      ]
    },
    {
      "cell_type": "code",
      "metadata": {
        "colab": {
          "base_uri": "https://localhost:8080/"
        },
        "id": "WpLsbPSKQZ4s",
        "outputId": "fb01f78c-2302-4ac9-becc-efd66545de9a"
      },
      "source": [
        "print(df.isnull().sum()) #pengecekan data yang bernilai Nan"
      ],
      "execution_count": null,
      "outputs": [
        {
          "output_type": "stream",
          "text": [
            "trustLevel                   0\n",
            "totalScanTimeInSeconds       0\n",
            "grandTotal                   0\n",
            "lineItemVoids                0\n",
            "scansWithoutRegistration     0\n",
            "quantityModifications        0\n",
            "scannedLineItemsPerSecond    0\n",
            "valuePerSecond               0\n",
            "lineItemVoidsPerPosition     0\n",
            "fraud                        0\n",
            "dtype: int64\n"
          ],
          "name": "stdout"
        }
      ]
    },
    {
      "cell_type": "markdown",
      "metadata": {
        "id": "7HRh0UFGRTAw"
      },
      "source": [
        "\r\n",
        "## **2. Feature Selection**\r\n",
        "\r\n",
        "---\r\n",
        "\r\n",
        "Fitur yang akan digunakan pada klasifikasi sangat menentukan hasil yang akan didapatkan. Fitur yang memiliki kedekatan tinggi akan menghasilkan klasifikasi yang lebih baik. Oleh karena itu, dilakukan pemilihan fitur terlebih dahulu dengan mecari fitur yang memiliki korelasi paling tinggi yang akan digunakan untuk klasifikasi.\r\n"
      ]
    },
    {
      "cell_type": "markdown",
      "metadata": {
        "id": "IGleKQWB3B0Z"
      },
      "source": [
        "1. Menentukan total item dengan mengalikan totalScannedTimeinSeconds dengan scannedItemsPerSecond dan menjadikan total item sebagai fitur baru"
      ]
    },
    {
      "cell_type": "code",
      "metadata": {
        "id": "6WgLNPAaRv65"
      },
      "source": [
        "#Menampilkan total scanned line item dengan megalikan \"scanned line item per second\" dengan \"total scan item in second\"\r\n",
        "df['scannedLineItems'] = (df['totalScanTimeInSeconds']*df['scannedLineItemsPerSecond']).apply(lambda x: np.around(x, 2))\r\n",
        "dt['scannedLineItems'] = (dt['totalScanTimeInSeconds']*dt['scannedLineItemsPerSecond']).apply(lambda x: np.around(x, 2))"
      ],
      "execution_count": null,
      "outputs": []
    },
    {
      "cell_type": "markdown",
      "metadata": {
        "id": "ierBQwk73Shq"
      },
      "source": [
        "2. Mengubah tipe data total scanned line item menjadi integer"
      ]
    },
    {
      "cell_type": "code",
      "metadata": {
        "id": "kWiRdJO5THGp"
      },
      "source": [
        "# convert data type ke integer\r\n",
        "df['scannedLineItems'] = df['scannedLineItems'].astype(int)\r\n",
        "dt['scannedLineItems'] = dt['scannedLineItems'].astype(int)"
      ],
      "execution_count": null,
      "outputs": []
    },
    {
      "cell_type": "code",
      "metadata": {
        "id": "bi1ApXQtnWkd"
      },
      "source": [
        "# mengganti posisi kolom fraud dan scannedLineItems\r\n",
        "df_temp_1 = df.pop('scannedLineItems') \r\n",
        "df_temp_2 = df.pop('fraud') \r\n",
        "df['scannedLineItems']=df_temp_1 \r\n",
        "df['fraud']=df_temp_2"
      ],
      "execution_count": null,
      "outputs": []
    },
    {
      "cell_type": "markdown",
      "metadata": {
        "id": "fNiwXlWf3a-g"
      },
      "source": [
        "3. Melakukan ploting untuk mengecek koreasi antar fitur menggunakan matriks korelasi"
      ]
    },
    {
      "cell_type": "code",
      "metadata": {
        "colab": {
          "base_uri": "https://localhost:8080/",
          "height": 747
        },
        "id": "h_VhYn9dTsIf",
        "outputId": "3c6aa4d7-35f4-43bf-aca3-5cd543a7b618"
      },
      "source": [
        "import seaborn as sns\r\n",
        "import matplotlib.pyplot as plt\r\n",
        "\r\n",
        "#Menggunakan Matriks korelasi\r\n",
        "plt.figure(figsize=(12,10))\r\n",
        "cor = df.corr()\r\n",
        "sns.heatmap(cor, annot=True, cmap=plt.cm.Reds)\r\n",
        "plt.show()"
      ],
      "execution_count": null,
      "outputs": [
        {
          "output_type": "display_data",
          "data": {
            "image/png": "[encoded data removed]",
            "text/plain": [
              "<Figure size 864x720 with 2 Axes>"
            ]
          },
          "metadata": {
            "tags": [],
            "needs_background": "light"
          }
        }
      ]
    },
    {
      "cell_type": "markdown",
      "metadata": {
        "id": "h1aeefC9UfpY"
      },
      "source": [
        "Fitur yang memiliki korelasi rendah atau dibawah 0.02 (nilai absolut) akan dihapus dan tidak digunakan dalam klasifikasi."
      ]
    },
    {
      "cell_type": "code",
      "metadata": {
        "colab": {
          "base_uri": "https://localhost:8080/"
        },
        "id": "wzCFu4KjTZLL",
        "outputId": "3d523785-d862-44ee-bbf5-4ab2dd8d04af"
      },
      "source": [
        "cor_target = abs(cor[\"fraud\"])\r\n",
        "#Memilih korelasi tertinggi\r\n",
        "relevant_features = cor_target[cor_target>0.02]\r\n",
        "relevant_features"
      ],
      "execution_count": null,
      "outputs": [
        {
          "output_type": "execute_result",
          "data": {
            "text/plain": [
              "trustLevel                   0.319765\n",
              "totalScanTimeInSeconds       0.110414\n",
              "lineItemVoids                0.063496\n",
              "scansWithoutRegistration     0.074123\n",
              "scannedLineItemsPerSecond    0.023085\n",
              "valuePerSecond               0.028873\n",
              "lineItemVoidsPerPosition     0.090116\n",
              "scannedLineItems             0.298423\n",
              "fraud                        1.000000\n",
              "Name: fraud, dtype: float64"
            ]
          },
          "metadata": {
            "tags": []
          },
          "execution_count": 11
        }
      ]
    },
    {
      "cell_type": "markdown",
      "metadata": {
        "id": "SGfDW16W3ii4"
      },
      "source": [
        "4. Menghapus fitur yang memiliki korelasi rendah dan mempertahankan fitur yang memiliki korelasi tinggi atau lebih dari 0.02 terhadap fitur fraud"
      ]
    },
    {
      "cell_type": "code",
      "metadata": {
        "id": "R4VuOkCYVJ5a"
      },
      "source": [
        "# Mempertahankan fitur yang memiliki korelasi tinggi\r\n",
        "df = df[relevant_features.index.values] # dataset train\r\n",
        "dt = dt[relevant_features.iloc[:-1].index.values] # dataset test"
      ],
      "execution_count": null,
      "outputs": []
    },
    {
      "cell_type": "markdown",
      "metadata": {
        "id": "MW5CgqrpVz7_"
      },
      "source": [
        "## **3. Outlier Detection**\r\n",
        "\r\n",
        "\r\n",
        "---\r\n",
        "\r\n",
        "Outlier adalah pengamatan yang terletak pada jarak abnormal dari nilai lain dalam sampel acak dari suatu populasi.Adanya Outliers bisa menyebabkan bias.\r\n"
      ]
    },
    {
      "cell_type": "markdown",
      "metadata": {
        "id": "uV2z5b4ByEU9"
      },
      "source": [
        ""
      ]
    },
    {
      "cell_type": "code",
      "metadata": {
        "colab": {
          "base_uri": "https://localhost:8080/",
          "height": 679
        },
        "id": "by0F76QhV3OJ",
        "outputId": "4803991b-62b3-4c0f-869e-b4f35f7328b0"
      },
      "source": [
        "def plot_boxplots(df):\r\n",
        "    fig, axs = plt.subplots(nrows=2, ncols=3,squeeze = True)\r\n",
        "    fig.tight_layout()\r\n",
        "    fig.set_figheight(10)\r\n",
        "    fig.set_figwidth(10)\r\n",
        "\r\n",
        "    sns.boxplot(x=df['trustLevel'], ax=axs[0,0])\r\n",
        "    sns.boxplot(x=df['totalScanTimeInSeconds'], ax=axs[1,0])\r\n",
        "    sns.boxplot(x=df['lineItemVoidsPerPosition'], ax=axs[0,2])\r\n",
        "    sns.boxplot(x=df['scannedLineItems'], ax=axs[1,1])\r\n",
        "    sns.boxplot(x=df['fraud'],ax=axs[1,2])\r\n",
        "    \r\n",
        "plot_boxplots(df)"
      ],
      "execution_count": null,
      "outputs": [
        {
          "output_type": "display_data",
          "data": {
            "image/png": "[encoded data removed]",
            "text/plain": [
              "<Figure size 720x720 with 6 Axes>"
            ]
          },
          "metadata": {
            "tags": [],
            "needs_background": "light"
          }
        }
      ]
    },
    {
      "cell_type": "code",
      "metadata": {
        "colab": {
          "base_uri": "https://localhost:8080/",
          "height": 679
        },
        "id": "wiNjy_0_XqTw",
        "outputId": "ff73baaa-6477-413f-c7fb-edd774dcffe9"
      },
      "source": [
        "# Hapus outlier pada \"LineItemVoidsPerPositions\" dengan mempertahankan hanya baris dalam rentang +3 sampai-3 dari standar deviasi\r\n",
        "df = df[np.abs(df.lineItemVoidsPerPosition-df.lineItemVoidsPerPosition.mean()) <= (3*df.lineItemVoidsPerPosition.std())]\r\n",
        "\r\n",
        "plot_boxplots(df)"
      ],
      "execution_count": null,
      "outputs": [
        {
          "output_type": "display_data",
          "data": {
            "image/png": "[encoded data removed]",
            "text/plain": [
              "<Figure size 720x720 with 6 Axes>"
            ]
          },
          "metadata": {
            "tags": [],
            "needs_background": "light"
          }
        }
      ]
    },
    {
      "cell_type": "markdown",
      "metadata": {
        "id": "tma5NlBJYv1C"
      },
      "source": [
        "## **4. Handling Imbalanced Data**\r\n",
        "\r\n",
        "\r\n",
        "---\r\n",
        "Mengatasi data yang tidak balance antara fraud dan non fraud menggunakan SMOTE (Synthetic Minority Over Sampling).Teknik ini mensintesis sampel baru dari kelas minoritas untuk menyeimbangkan dataset dengan cara sampling ulang sampel kelas minoritas.\r\n"
      ]
    },
    {
      "cell_type": "code",
      "metadata": {
        "colab": {
          "base_uri": "https://localhost:8080/"
        },
        "id": "RnZAB6diZEwy",
        "outputId": "e0a6b3e2-71f3-4be3-d38f-d696df344ce4"
      },
      "source": [
        "fraud_names = {0:'Not Fraud', 1:'Fraud'}\r\n",
        "print(df.fraud.value_counts().rename(index = fraud_names))"
      ],
      "execution_count": null,
      "outputs": [
        {
          "output_type": "stream",
          "text": [
            "Not Fraud    1727\n",
            "Fraud         104\n",
            "Name: fraud, dtype: int64\n"
          ],
          "name": "stdout"
        }
      ]
    },
    {
      "cell_type": "code",
      "metadata": {
        "colab": {
          "base_uri": "https://localhost:8080/",
          "height": 325
        },
        "id": "uTs4TXCAZMh3",
        "outputId": "779df9cd-1d60-4e59-d437-9009e93bc867"
      },
      "source": [
        "classification = df['fraud'].value_counts()\r\n",
        "print(classification)\r\n",
        "N = 2\r\n",
        "y_values = classification.values\r\n",
        "x_values = [0,1]\r\n",
        "ind = np.arange(N)\r\n",
        "plt.bar(x_values,y_values)\r\n",
        "plt.xticks(ind, ('0','1'))\r\n",
        "plt.show()"
      ],
      "execution_count": null,
      "outputs": [
        {
          "output_type": "stream",
          "text": [
            "0    1727\n",
            "1     104\n",
            "Name: fraud, dtype: int64\n"
          ],
          "name": "stdout"
        },
        {
          "output_type": "display_data",
          "data": {
            "image/png": "[encoded data removed]",
            "text/plain": [
              "<Figure size 432x288 with 1 Axes>"
            ]
          },
          "metadata": {
            "tags": [],
            "needs_background": "light"
          }
        }
      ]
    },
    {
      "cell_type": "markdown",
      "metadata": {
        "id": "HVnrIA55Ziqa"
      },
      "source": [
        "**Oversampling minority class menggunakan SMOTE**"
      ]
    },
    {
      "cell_type": "code",
      "metadata": {
        "id": "e3mImr33ZrjA",
        "colab": {
          "base_uri": "https://localhost:8080/"
        },
        "outputId": "fcbcd693-3b08-4e49-bfb7-7db9603ea17b"
      },
      "source": [
        "import numpy as np\r\n",
        "import warnings\r\n",
        "from imblearn.over_sampling import SMOTE\r\n",
        "\r\n",
        "warnings.simplefilter(action='ignore', category=FutureWarning) # for readability purposes\r\n",
        "sm = SMOTE(random_state=np.random.seed(1304), ratio=1.0)\r\n"
      ],
      "execution_count": null,
      "outputs": [
        {
          "output_type": "stream",
          "text": [
            "/usr/local/lib/python3.6/dist-packages/sklearn/externals/six.py:31: FutureWarning: The module is deprecated in version 0.21 and will be removed in version 0.23 since we've dropped support for Python 2.7. Please rely on the official version of six (https://pypi.org/project/six/).\n",
            "  \"(https://pypi.org/project/six/).\", FutureWarning)\n",
            "/usr/local/lib/python3.6/dist-packages/sklearn/utils/deprecation.py:144: FutureWarning: The sklearn.neighbors.base module is  deprecated in version 0.22 and will be removed in version 0.24. The corresponding classes / functions should instead be imported from sklearn.neighbors. Anything that cannot be imported from sklearn.neighbors is now part of the private API.\n",
            "  warnings.warn(message, FutureWarning)\n"
          ],
          "name": "stderr"
        }
      ]
    },
    {
      "cell_type": "code",
      "metadata": {
        "colab": {
          "base_uri": "https://localhost:8080/",
          "height": 382
        },
        "id": "IvkNe5mbd-OM",
        "outputId": "46dbd5e9-5baf-4e73-e531-64ef4f092b29"
      },
      "source": [
        "# check new class counts\r\n",
        "sns.set(style=\"ticks\", color_codes=True)\r\n",
        "sns.catplot(x=\"fraud\", kind=\"count\", palette=\"ch:.25\", data=pd.DataFrame(data=y_train, columns=['fraud']));"
      ],
      "execution_count": null,
      "outputs": [
        {
          "output_type": "display_data",
          "data": {
            "image/png": "[encoded data removed]",
            "text/plain": [
              "<Figure size 360x360 with 1 Axes>"
            ]
          },
          "metadata": {
            "tags": []
          }
        }
      ]
    },
    {
      "cell_type": "markdown",
      "metadata": {
        "id": "OgK_NYAUhxuO"
      },
      "source": [
        "# **Modelling dan Evaluasi**"
      ]
    },
    {
      "cell_type": "markdown",
      "metadata": {
        "id": "fIoMVDoqz__7"
      },
      "source": [
        "Pemodelan akan dilakukan pada beberapa metode dan akan dilihat metode mana yang memiliki akurasi paling besar.\r\n",
        "Metode yang akan digunakan yaitu :\r\n",
        "\r\n",
        "\r\n",
        "1.   K-Nearest Neighbor\r\n",
        "2.   Naive Bayes\r\n",
        "3.   Decision Tree\r\n",
        "4.   Logistic Regression\r\n",
        "\r\n",
        "\r\n"
      ]
    },
    {
      "cell_type": "markdown",
      "metadata": {
        "id": "qccDmI8U4he8"
      },
      "source": [
        "Sebelum melakukan pemodelan, data akan displit menjadi data train dan data test. \r\n",
        "\r\n",
        "*   **X_train** dan **y_train** diambil dari dataset train\r\n",
        "*   **X_test** diambil dari dataset test\r\n",
        "*  **y_test** diambil dari dataset realclass, data ini digunakan untuk mengecek akurasi dari setiap model yang digunakan. Data realclass didapatkan dari hasil prediksi pada kasus Data Mining Cup 2019\r\n"
      ]
    },
    {
      "cell_type": "code",
      "metadata": {
        "colab": {
          "base_uri": "https://localhost:8080/"
        },
        "id": "3K8glHy8kNdF",
        "outputId": "94c82df9-d687-484f-a877-8ae0e3a50197"
      },
      "source": [
        "#split data menjadi data test dan data train\r\n",
        "from sklearn.model_selection import train_test_split\r\n",
        "\r\n",
        "X_train, y_train = sm.fit_sample(df.drop(columns=['fraud']), df['fraud'])\r\n",
        "\r\n",
        "X_test = dt\r\n",
        "y_test = pd.read_csv('realclass.csv', sep=\"|\")\r\n",
        "\r\n",
        "# Menampilkan training dan testing data\r\n",
        "print(X_train.shape)\r\n",
        "print(X_test.shape)\r\n",
        "print(y_train.shape)\r\n",
        "print(y_test.shape)"
      ],
      "execution_count": null,
      "outputs": [
        {
          "output_type": "stream",
          "text": [
            "(3454, 8)\n",
            "(498121, 8)\n",
            "(3454,)\n",
            "(498121, 1)\n"
          ],
          "name": "stdout"
        }
      ]
    },
    {
      "cell_type": "code",
      "metadata": {
        "id": "8euev6a6lOwa"
      },
      "source": [
        "# scaler digunakan untuk scalling data karena adanya perbedaan rentang data.\r\n",
        "from sklearn.preprocessing import StandardScaler\r\n",
        "\r\n",
        "scaler = StandardScaler()\r\n",
        "scaler.fit(X_train)\r\n",
        "X_train = scaler.transform(X_train)\r\n",
        "X_test = scaler.transform(X_test)"
      ],
      "execution_count": null,
      "outputs": []
    },
    {
      "cell_type": "markdown",
      "metadata": {
        "id": "-yjb91ZDkoaE"
      },
      "source": [
        "## **1. Knn Classification**"
      ]
    },
    {
      "cell_type": "code",
      "metadata": {
        "colab": {
          "base_uri": "https://localhost:8080/"
        },
        "id": "MXRqu1Ukkt9q",
        "outputId": "fa0eae82-9140-416f-c87e-f9c9b2fcf5ab"
      },
      "source": [
        "from sklearn.neighbors import KNeighborsClassifier\r\n",
        "from sklearn.metrics import classification_report, confusion_matrix \r\n",
        "\r\n",
        "#klasifikasi menggunakan KNN (library)\r\n",
        "klasifikasi = KNeighborsClassifier(n_neighbors=5) #umumya menggunakan n_neighbors = 5\r\n",
        "klasifikasi.fit(X_train, y_train)"
      ],
      "execution_count": null,
      "outputs": [
        {
          "output_type": "execute_result",
          "data": {
            "text/plain": [
              "KNeighborsClassifier(algorithm='auto', leaf_size=30, metric='minkowski',\n",
              "                     metric_params=None, n_jobs=None, n_neighbors=5, p=2,\n",
              "                     weights='uniform')"
            ]
          },
          "metadata": {
            "tags": []
          },
          "execution_count": 22
        }
      ]
    },
    {
      "cell_type": "code",
      "metadata": {
        "colab": {
          "base_uri": "https://localhost:8080/"
        },
        "id": "jNepQFbHkwlH",
        "outputId": "437a9f05-e88a-451c-831c-3868ac9643fa"
      },
      "source": [
        "# Menentukan hasil prediksi dari x_test\r\n",
        "y_pred = klasifikasi.predict(X_test)\r\n",
        "y_pred"
      ],
      "execution_count": null,
      "outputs": [
        {
          "output_type": "execute_result",
          "data": {
            "text/plain": [
              "array([0, 0, 0, ..., 0, 0, 1])"
            ]
          },
          "metadata": {
            "tags": []
          },
          "execution_count": 23
        }
      ]
    },
    {
      "cell_type": "code",
      "metadata": {
        "colab": {
          "base_uri": "https://localhost:8080/"
        },
        "id": "enPpW7h-kxHH",
        "outputId": "8762ee96-e0d9-49c1-8f5a-7b2356b1d559"
      },
      "source": [
        "# probabilitas hasil prediksi x_test\r\n",
        "klasifikasi.predict_proba(X_test)"
      ],
      "execution_count": null,
      "outputs": [
        {
          "output_type": "execute_result",
          "data": {
            "text/plain": [
              "array([[1. , 0. ],\n",
              "       [1. , 0. ],\n",
              "       [1. , 0. ],\n",
              "       ...,\n",
              "       [1. , 0. ],\n",
              "       [1. , 0. ],\n",
              "       [0.2, 0.8]])"
            ]
          },
          "metadata": {
            "tags": []
          },
          "execution_count": 24
        }
      ]
    },
    {
      "cell_type": "markdown",
      "metadata": {
        "id": "rdO5bR9bq1HC"
      },
      "source": [
        "**Evaluasi**"
      ]
    },
    {
      "cell_type": "code",
      "metadata": {
        "colab": {
          "base_uri": "https://localhost:8080/"
        },
        "id": "yifPg8D3oUCD",
        "outputId": "2485288a-19bc-4a07-8695-5d262d9be587"
      },
      "source": [
        "# Menampilkan hasil confussion matriks \r\n",
        "print(confusion_matrix(y_test, y_pred))"
      ],
      "execution_count": null,
      "outputs": [
        {
          "output_type": "stream",
          "text": [
            "[[450954  23440]\n",
            " [   389  23338]]\n"
          ],
          "name": "stdout"
        }
      ]
    },
    {
      "cell_type": "code",
      "metadata": {
        "colab": {
          "base_uri": "https://localhost:8080/"
        },
        "id": "do6sxDRFoW45",
        "outputId": "fa058714-0ade-47dd-9acd-dcea6c1d9c01"
      },
      "source": [
        "# menampilkan hasil clasifikasi,precision, recall, f1score, accuracy dan support\r\n",
        "print(classification_report(y_test, y_pred))"
      ],
      "execution_count": null,
      "outputs": [
        {
          "output_type": "stream",
          "text": [
            "              precision    recall  f1-score   support\n",
            "\n",
            "           0       1.00      0.95      0.97    474394\n",
            "           1       0.50      0.98      0.66     23727\n",
            "\n",
            "    accuracy                           0.95    498121\n",
            "   macro avg       0.75      0.97      0.82    498121\n",
            "weighted avg       0.98      0.95      0.96    498121\n",
            "\n"
          ],
          "name": "stdout"
        }
      ]
    },
    {
      "cell_type": "code",
      "metadata": {
        "colab": {
          "base_uri": "https://localhost:8080/"
        },
        "id": "iFcxu8VXofcd",
        "outputId": "2cf21499-9071-46bc-dab6-55f308b4b8db"
      },
      "source": [
        "#menampilkan hasil akurasi data\r\n",
        "from sklearn.metrics import accuracy_score\r\n",
        "accuracyKnn= accuracy_score(y_test, y_pred)*100\r\n",
        "accuracyKnn"
      ],
      "execution_count": null,
      "outputs": [
        {
          "output_type": "execute_result",
          "data": {
            "text/plain": [
              "95.216222564397"
            ]
          },
          "metadata": {
            "tags": []
          },
          "execution_count": 28
        }
      ]
    },
    {
      "cell_type": "markdown",
      "metadata": {
        "id": "mricJwLqom7I"
      },
      "source": [
        "## **2.Naive Bayes Classsification**"
      ]
    },
    {
      "cell_type": "code",
      "metadata": {
        "id": "7ysucIdUosTj"
      },
      "source": [
        "from sklearn.naive_bayes import GaussianNB\r\n",
        "from sklearn.metrics import classification_report\r\n",
        "from sklearn.metrics import confusion_matrix"
      ],
      "execution_count": null,
      "outputs": []
    },
    {
      "cell_type": "code",
      "metadata": {
        "colab": {
          "base_uri": "https://localhost:8080/"
        },
        "id": "B3rrZKqTpnnj",
        "outputId": "f0ccb80d-4163-40b7-a245-73870cb843cc"
      },
      "source": [
        "# Mengaktifkan/memanggil/membuat fungsi klasifikasi Naive bayes\r\n",
        "modelnb = GaussianNB()\r\n",
        "# Memasukkan data training pada fungsi klasifikasi naive bayes\r\n",
        "nbtrain = modelnb.fit(X_train, y_train)\r\n",
        "nbtrain.class_count_"
      ],
      "execution_count": null,
      "outputs": [
        {
          "output_type": "execute_result",
          "data": {
            "text/plain": [
              "array([1727., 1727.])"
            ]
          },
          "metadata": {
            "tags": []
          },
          "execution_count": 30
        }
      ]
    },
    {
      "cell_type": "code",
      "metadata": {
        "colab": {
          "base_uri": "https://localhost:8080/"
        },
        "id": "GjEWalNup6kC",
        "outputId": "84c33be6-0759-40a5-fb61-7f157137b341"
      },
      "source": [
        "y_p = nbtrain.predict(X_test)\r\n",
        "y_p"
      ],
      "execution_count": null,
      "outputs": [
        {
          "output_type": "execute_result",
          "data": {
            "text/plain": [
              "array([0, 0, 0, ..., 0, 0, 0])"
            ]
          },
          "metadata": {
            "tags": []
          },
          "execution_count": 31
        }
      ]
    },
    {
      "cell_type": "code",
      "metadata": {
        "colab": {
          "base_uri": "https://localhost:8080/"
        },
        "id": "ZiXc5WolqNbq",
        "outputId": "e6792ea4-8d0b-465e-f5d4-149ddd7deb29"
      },
      "source": [
        "# Menentukan probabilitas hasil prediksi\r\n",
        "nbtrain.predict_proba(X_test)"
      ],
      "execution_count": null,
      "outputs": [
        {
          "output_type": "execute_result",
          "data": {
            "text/plain": [
              "array([[1.00000000e+000, 3.15024811e-034],\n",
              "       [9.99358176e-001, 6.41824053e-004],\n",
              "       [1.00000000e+000, 1.11149757e-230],\n",
              "       ...,\n",
              "       [1.00000000e+000, 1.19141543e-018],\n",
              "       [9.99999994e-001, 5.83979496e-009],\n",
              "       [9.99636961e-001, 3.63039372e-004]])"
            ]
          },
          "metadata": {
            "tags": []
          },
          "execution_count": 32
        }
      ]
    },
    {
      "cell_type": "markdown",
      "metadata": {
        "id": "84tVdcfPq5Aq"
      },
      "source": [
        "**Evaluasi**"
      ]
    },
    {
      "cell_type": "code",
      "metadata": {
        "colab": {
          "base_uri": "https://localhost:8080/"
        },
        "id": "vQiFg7KGqRsq",
        "outputId": "eb4999a5-ea87-4948-b287-1a12e440d8e8"
      },
      "source": [
        "# Menampilkan confussion matriks untuk naive bayes \r\n",
        "confusion_matrix(y_test, y_p)"
      ],
      "execution_count": null,
      "outputs": [
        {
          "output_type": "execute_result",
          "data": {
            "text/plain": [
              "array([[435743,  38651],\n",
              "       [  1073,  22654]])"
            ]
          },
          "metadata": {
            "tags": []
          },
          "execution_count": 33
        }
      ]
    },
    {
      "cell_type": "code",
      "metadata": {
        "colab": {
          "base_uri": "https://localhost:8080/"
        },
        "id": "f_mzgGleqOxj",
        "outputId": "1eeae1af-723f-4a17-a6f1-9e9c38694472"
      },
      "source": [
        "# Menampilkan klasifikasi, precision,recall, f1 score, support dan accuracy dengan naive bayes\r\n",
        "print(classification_report(y_test,y_p))"
      ],
      "execution_count": null,
      "outputs": [
        {
          "output_type": "stream",
          "text": [
            "              precision    recall  f1-score   support\n",
            "\n",
            "           0       1.00      0.92      0.96    474394\n",
            "           1       0.37      0.95      0.53     23727\n",
            "\n",
            "    accuracy                           0.92    498121\n",
            "   macro avg       0.68      0.94      0.74    498121\n",
            "weighted avg       0.97      0.92      0.94    498121\n",
            "\n"
          ],
          "name": "stdout"
        }
      ]
    },
    {
      "cell_type": "code",
      "metadata": {
        "colab": {
          "base_uri": "https://localhost:8080/"
        },
        "id": "4HvVNJ4yqgA0",
        "outputId": "6498eb03-862f-49c9-a876-1efa37864d97"
      },
      "source": [
        "from sklearn.metrics import accuracy_score\r\n",
        "accuracyNB= accuracy_score(y_test, y_p)*100\r\n",
        "accuracyNB #akurasi untuk naive bayes "
      ],
      "execution_count": null,
      "outputs": [
        {
          "output_type": "execute_result",
          "data": {
            "text/plain": [
              "92.02523081741182"
            ]
          },
          "metadata": {
            "tags": []
          },
          "execution_count": 36
        }
      ]
    },
    {
      "cell_type": "markdown",
      "metadata": {
        "id": "j-1oCXkjrtLi"
      },
      "source": [
        "## **3. Decision Tree**"
      ]
    },
    {
      "cell_type": "code",
      "metadata": {
        "colab": {
          "base_uri": "https://localhost:8080/"
        },
        "id": "9DwLDK1Drsh-",
        "outputId": "1f17192f-632d-411d-ea3c-08361914837e"
      },
      "source": [
        "# Decision Tree model \r\n",
        "from sklearn import tree\r\n",
        "\r\n",
        "dtc = tree.DecisionTreeClassifier(random_state=0)\r\n",
        "dtc.fit(X_train, y_train)\r\n",
        " "
      ],
      "execution_count": null,
      "outputs": [
        {
          "output_type": "execute_result",
          "data": {
            "text/plain": [
              "DecisionTreeClassifier(ccp_alpha=0.0, class_weight=None, criterion='gini',\n",
              "                       max_depth=None, max_features=None, max_leaf_nodes=None,\n",
              "                       min_impurity_decrease=0.0, min_impurity_split=None,\n",
              "                       min_samples_leaf=1, min_samples_split=2,\n",
              "                       min_weight_fraction_leaf=0.0, presort='deprecated',\n",
              "                       random_state=0, splitter='best')"
            ]
          },
          "metadata": {
            "tags": []
          },
          "execution_count": 37
        }
      ]
    },
    {
      "cell_type": "code",
      "metadata": {
        "colab": {
          "base_uri": "https://localhost:8080/"
        },
        "id": "9XsCOsryvcJ3",
        "outputId": "89a76673-9237-4f9f-ed0e-3fce58f7c290"
      },
      "source": [
        "y_prediksi =dtc.predict(X_test)\r\n",
        "y_prediksi"
      ],
      "execution_count": null,
      "outputs": [
        {
          "output_type": "execute_result",
          "data": {
            "text/plain": [
              "array([0, 0, 0, ..., 0, 0, 0])"
            ]
          },
          "metadata": {
            "tags": []
          },
          "execution_count": 38
        }
      ]
    },
    {
      "cell_type": "markdown",
      "metadata": {
        "id": "C7tZLy9SzHZ-"
      },
      "source": [
        "**Evaluasi**"
      ]
    },
    {
      "cell_type": "code",
      "metadata": {
        "colab": {
          "base_uri": "https://localhost:8080/"
        },
        "id": "ufAlxfhdvlIh",
        "outputId": "8da59de9-ccd6-43ba-cad6-9808795efaae"
      },
      "source": [
        "# Menampilkan confussion matriks untuk naive bayes \r\n",
        "confusion_matrix(y_test, y_prediksi)"
      ],
      "execution_count": null,
      "outputs": [
        {
          "output_type": "execute_result",
          "data": {
            "text/plain": [
              "array([[468220,   6174],\n",
              "       [  4736,  18991]])"
            ]
          },
          "metadata": {
            "tags": []
          },
          "execution_count": 39
        }
      ]
    },
    {
      "cell_type": "code",
      "metadata": {
        "colab": {
          "base_uri": "https://localhost:8080/"
        },
        "id": "0y9j7rnNvxC0",
        "outputId": "63c657ff-1037-4e4c-ab42-d9740e1e2c4a"
      },
      "source": [
        "# Menampilkan klasifikasi, precision,recall, f1 score, support dan accuracy dengan naive bayes\r\n",
        "print(classification_report(y_test,y_prediksi))"
      ],
      "execution_count": null,
      "outputs": [
        {
          "output_type": "stream",
          "text": [
            "              precision    recall  f1-score   support\n",
            "\n",
            "           0       0.99      0.99      0.99    474394\n",
            "           1       0.75      0.80      0.78     23727\n",
            "\n",
            "    accuracy                           0.98    498121\n",
            "   macro avg       0.87      0.89      0.88    498121\n",
            "weighted avg       0.98      0.98      0.98    498121\n",
            "\n"
          ],
          "name": "stdout"
        }
      ]
    },
    {
      "cell_type": "code",
      "metadata": {
        "colab": {
          "base_uri": "https://localhost:8080/"
        },
        "id": "pkaQcaWIwTsx",
        "outputId": "3406c9e4-478b-494d-be62-0d1f0376df5c"
      },
      "source": [
        "from sklearn.metrics import accuracy_score\r\n",
        "accuracyDCT= accuracy_score(y_test, y_prediksi)*100\r\n",
        "accuracyDCT #akurasi untuk naive bayes "
      ],
      "execution_count": null,
      "outputs": [
        {
          "output_type": "execute_result",
          "data": {
            "text/plain": [
              "97.80976911232412"
            ]
          },
          "metadata": {
            "tags": []
          },
          "execution_count": 41
        }
      ]
    },
    {
      "cell_type": "markdown",
      "metadata": {
        "id": "UxqESJegwmEp"
      },
      "source": [
        "## **4. Logistic Regression** "
      ]
    },
    {
      "cell_type": "code",
      "metadata": {
        "colab": {
          "base_uri": "https://localhost:8080/"
        },
        "id": "EgO50urfwrQ_",
        "outputId": "742cdc06-62d0-4ac5-81cc-52c790b21ac7"
      },
      "source": [
        "from sklearn.linear_model import LogisticRegression\r\n",
        "\r\n",
        "lr = LogisticRegression()\r\n",
        "lr.fit (X_train, y_train)"
      ],
      "execution_count": null,
      "outputs": [
        {
          "output_type": "execute_result",
          "data": {
            "text/plain": [
              "LogisticRegression(C=1.0, class_weight=None, dual=False, fit_intercept=True,\n",
              "                   intercept_scaling=1, l1_ratio=None, max_iter=100,\n",
              "                   multi_class='auto', n_jobs=None, penalty='l2',\n",
              "                   random_state=None, solver='lbfgs', tol=0.0001, verbose=0,\n",
              "                   warm_start=False)"
            ]
          },
          "metadata": {
            "tags": []
          },
          "execution_count": 42
        }
      ]
    },
    {
      "cell_type": "code",
      "metadata": {
        "colab": {
          "base_uri": "https://localhost:8080/"
        },
        "id": "cGIgJWmWxFsb",
        "outputId": "6f267557-c2f0-4f44-eed1-d6958edb6023"
      },
      "source": [
        "y_pre = nbtrain.predict(X_test)\r\n",
        "y_pre"
      ],
      "execution_count": null,
      "outputs": [
        {
          "output_type": "execute_result",
          "data": {
            "text/plain": [
              "array([0, 0, 0, ..., 0, 0, 0])"
            ]
          },
          "metadata": {
            "tags": []
          },
          "execution_count": 43
        }
      ]
    },
    {
      "cell_type": "code",
      "metadata": {
        "colab": {
          "base_uri": "https://localhost:8080/"
        },
        "id": "cI3-yM-hxN9r",
        "outputId": "e0370b34-b83f-4b8a-dd72-589f05799061"
      },
      "source": [
        "# Menampilkan confussion matriks untuk naive bayes \r\n",
        "confusion_matrix(y_test, y_pre)"
      ],
      "execution_count": null,
      "outputs": [
        {
          "output_type": "execute_result",
          "data": {
            "text/plain": [
              "array([[435743,  38651],\n",
              "       [  1073,  22654]])"
            ]
          },
          "metadata": {
            "tags": []
          },
          "execution_count": 44
        }
      ]
    },
    {
      "cell_type": "code",
      "metadata": {
        "colab": {
          "base_uri": "https://localhost:8080/"
        },
        "id": "9N0YHM3pxSD4",
        "outputId": "48f28483-0e08-443d-e0f3-7496ed98d0cf"
      },
      "source": [
        "# Menampilkan klasifikasi, precision,recall, f1 score, support dan accuracy dengan naive bayes\r\n",
        "print(classification_report(y_test,y_pre))"
      ],
      "execution_count": null,
      "outputs": [
        {
          "output_type": "stream",
          "text": [
            "              precision    recall  f1-score   support\n",
            "\n",
            "           0       1.00      0.92      0.96    474394\n",
            "           1       0.37      0.95      0.53     23727\n",
            "\n",
            "    accuracy                           0.92    498121\n",
            "   macro avg       0.68      0.94      0.74    498121\n",
            "weighted avg       0.97      0.92      0.94    498121\n",
            "\n"
          ],
          "name": "stdout"
        }
      ]
    },
    {
      "cell_type": "markdown",
      "metadata": {
        "id": "GCeKpZY6y9_F"
      },
      "source": [
        "**Evaluasi**"
      ]
    },
    {
      "cell_type": "code",
      "metadata": {
        "colab": {
          "base_uri": "https://localhost:8080/"
        },
        "id": "RLGSQ2E_xdxz",
        "outputId": "dd0717ea-b778-429f-cd96-33d96f51dd50"
      },
      "source": [
        "from sklearn.metrics import accuracy_score\r\n",
        "accuracyLR= accuracy_score(y_test, y_pre)*100\r\n",
        "accuracyLR #akurasi untuk naive bayes "
      ],
      "execution_count": null,
      "outputs": [
        {
          "output_type": "execute_result",
          "data": {
            "text/plain": [
              "92.02523081741182"
            ]
          },
          "metadata": {
            "tags": []
          },
          "execution_count": 46
        }
      ]
    },
    {
      "cell_type": "markdown",
      "metadata": {
        "id": "_tOQI9dJKe4l"
      },
      "source": [
        "# **Perbandingan Akurasi untuk Setiap Model** "
      ]
    },
    {
      "cell_type": "code",
      "metadata": {
        "id": "lLPuRTsEKpLa",
        "colab": {
          "base_uri": "https://localhost:8080/"
        },
        "outputId": "cfc74513-7279-4e4b-fac4-117b23898411"
      },
      "source": [
        "print('Accuracy untuk K-Nearest Neighbor    : ',accuracyKnn)\r\n",
        "print('Accuracy untuk Naive Bayes           : ',accuracyNB)\r\n",
        "print('Accuracy untuk Decision Tree         : ',accuracyDCT)\r\n",
        "print('Accuracy untuk Logistik Regression   : ',accuracyLR)"
      ],
      "execution_count": null,
      "outputs": [
        {
          "output_type": "stream",
          "text": [
            "Accuracy untuk K-Nearest Neighbor    :  95.216222564397\n",
            "Accuracy untuk Naive Bayes           :  92.02523081741182\n",
            "Accuracy untuk Decision Tree         :  97.80976911232412\n",
            "Accuracy untuk Logistik Regression   :  92.02523081741182\n"
          ],
          "name": "stdout"
        }
      ]
    },
    {
      "cell_type": "markdown",
      "metadata": {
        "id": "SwCVYhFtLZ34"
      },
      "source": [
        "Berdasarkan hasil perbandingan akurasi diatas, didapatkan bahwa Pemodelan menggunakan **Decision Tree** mendapatkan hasil yang lebih **maksimal** dibandingkan menggunakan model algoritma KNN,Naive Bayes, dan Logistik Regression."
      ]
    },
    {
      "cell_type": "code",
      "metadata": {
        "id": "LCnuEG97MGn8"
      },
      "source": [
        "import numpy as np\r\n",
        "\r\n",
        "np.savetxt(\"hasilPrediksiFraud.csv\", y_prediksi, delimiter=\",\")"
      ],
      "execution_count": null,
      "outputs": []
    },
    {
      "cell_type": "code",
      "metadata": {
        "id": "yo6kZdViE1ef",
        "colab": {
          "base_uri": "https://localhost:8080/",
          "height": 17
        },
        "outputId": "1d18d97a-de4e-4db3-b0c6-311b00ff3d2f"
      },
      "source": [
        "from google.colab import files\n",
        "files.download(\"hasilPrediksiFraud.csv\")"
      ],
      "execution_count": null,
      "outputs": [
        {
          "output_type": "display_data",
          "data": {
            "application/javascript": [
              "\n",
              "    async function download(id, filename, size) {\n",
              "      if (!google.colab.kernel.accessAllowed) {\n",
              "        return;\n",
              "      }\n",
              "      const div = document.createElement('div');\n",
              "      const label = document.createElement('label');\n",
              "      label.textContent = `Downloading \"${filename}\": `;\n",
              "      div.appendChild(label);\n",
              "      const progress = document.createElement('progress');\n",
              "      progress.max = size;\n",
              "      div.appendChild(progress);\n",
              "      document.body.appendChild(div);\n",
              "\n",
              "      const buffers = [];\n",
              "      let downloaded = 0;\n",
              "\n",
              "      const channel = await google.colab.kernel.comms.open(id);\n",
              "      // Send a message to notify the kernel that we're ready.\n",
              "      channel.send({})\n",
              "\n",
              "      for await (const message of channel.messages) {\n",
              "        // Send a message to notify the kernel that we're ready.\n",
              "        channel.send({})\n",
              "        if (message.buffers) {\n",
              "          for (const buffer of message.buffers) {\n",
              "            buffers.push(buffer);\n",
              "            downloaded += buffer.byteLength;\n",
              "            progress.value = downloaded;\n",
              "          }\n",
              "        }\n",
              "      }\n",
              "      const blob = new Blob(buffers, {type: 'application/binary'});\n",
              "      const a = document.createElement('a');\n",
              "      a.href = window.URL.createObjectURL(blob);\n",
              "      a.download = filename;\n",
              "      div.appendChild(a);\n",
              "      a.click();\n",
              "      div.remove();\n",
              "    }\n",
              "  "
            ],
            "text/plain": [
              "<IPython.core.display.Javascript object>"
            ]
          },
          "metadata": {
            "tags": []
          }
        },
        {
          "output_type": "display_data",
          "data": {
            "application/javascript": [
              "download(\"download_ec914259-30a1-4576-8324-6b1b0cf16eb8\", \"hasilPrediksiFraud.csv\", 12453025)"
            ],
            "text/plain": [
              "<IPython.core.display.Javascript object>"
            ]
          },
          "metadata": {
            "tags": []
          }
        }
      ]
    }
  ]
}